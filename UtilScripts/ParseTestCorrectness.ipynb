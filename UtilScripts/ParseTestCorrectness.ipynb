{
 "cells": [
  {
   "cell_type": "code",
   "execution_count": 90,
   "metadata": {},
   "outputs": [],
   "source": [
    "import os\n",
    "import pandas as pd\n",
    "import numpy as np"
   ]
  },
  {
   "cell_type": "code",
   "execution_count": 91,
   "metadata": {},
   "outputs": [],
   "source": [
    "rootPath = \"/Users/lsiddiqsunny/Documents/Notre_Dame/Research/ICSE23-results/CodeGen/SF110-Results/\""
   ]
  },
  {
   "cell_type": "code",
   "execution_count": 92,
   "metadata": {},
   "outputs": [],
   "source": [
    "headers = [\"MODEL\",\"PROJECT_NAME\",\"CLASS_NAME\",\"FILE_NAME\",\"SCENARIO\",\"TOKEN\",\"TOTAL_TESTS\",\"TOTAL_FAILURES\",\"TOTAL_SKIPPED\",\"TOTAL_ABORTED\",\"TOTAL_TIME\"]"
   ]
  },
  {
   "cell_type": "code",
   "execution_count": 86,
   "metadata": {},
   "outputs": [],
   "source": [
    "information = []"
   ]
  },
  {
   "cell_type": "code",
   "execution_count": null,
   "metadata": {},
   "outputs": [],
   "source": [
    "with open(rootPath+\"out.txt\", \"r\") as f:\n",
    "    lines = f.readlines()\n",
    "    for line in lines:\n",
    "        info = []\n",
    "        info.append(\"CodeGen\")\n",
    "        parts = line.strip().split(\"/\")\n",
    "        print(parts)\n",
    "\n",
    "        project_name = parts[1]\n",
    "        info.append(project_name)\n",
    "        print(project_name)\n",
    "\n",
    "        className = \".\".join(parts[2].split(\".\")[:-2]).split(\"-\")[-1]\n",
    "        info.append(className)\n",
    "        print(className)\n",
    "\n",
    "        fileName = parts[2].split(\".\")[-2]\n",
    "        info.append(fileName+\".java\")\n",
    "        print(fileName)\n",
    "\n",
    "        if \"original\" not in fileName and \"scenario\" not in fileName:\n",
    "            continue\n",
    "\n",
    "\n",
    "        scenario = fileName.split(\"_\")[0]\n",
    "        info.append(scenario)\n",
    "        print(scenario)\n",
    "\n",
    "        if \"TEST-\" in scenario:\n",
    "            scenario = scenario.split(\"-\")[-1]\n",
    "\n",
    "\n",
    "        if \"2000\" in fileName:\n",
    "            token = \"2000\"\n",
    "        elif \"4000\" in fileName:\n",
    "            token = \"4000\"\n",
    "        info.append(token)\n",
    "        print(token)\n",
    "\n",
    "        with open(rootPath+line.strip(), \"r\") as f2:\n",
    "            lines2 = f2.readlines()\n",
    "            targetLine = \"\"\n",
    "            for line2 in lines2:\n",
    "                if \"Tests run\" in line2:\n",
    "                    targetLine = line2\n",
    "                    break\n",
    "\n",
    "            if len(lines2)>0 and \"Tests run\" in lines2[-1]:\n",
    "                res = targetLine.strip().split()\n",
    "                total_tests = res[2].split(\",\")[0]\n",
    "                total_failures = res[4].split(\",\")[0]\n",
    "                total_skipped = res[6].split(\",\")[0]\n",
    "                total_aborted = res[8].split(\",\")[0]\n",
    "                total_time = res[11].split()[0]\n",
    "                info.append(total_tests)\n",
    "                info.append(total_failures)\n",
    "                info.append(total_skipped)\n",
    "                info.append(total_aborted)\n",
    "                info.append(total_time)\n",
    "                print(total_tests)\n",
    "                print(total_failures)\n",
    "                print(total_skipped)\n",
    "                print(total_aborted)\n",
    "                print(total_time)\n",
    "                \n",
    "            else:\n",
    "                info.append(\"0\")\n",
    "                info.append(\"0\")\n",
    "                info.append(\"0\")\n",
    "                info.append(\"0\")\n",
    "                info.append(\"0\")\n",
    "        information.append(info)\n"
   ]
  },
  {
   "cell_type": "code",
   "execution_count": 94,
   "metadata": {},
   "outputs": [],
   "source": [
    "np_info = np.array(information)\n",
    "df = pd.DataFrame(np_info, columns=headers)"
   ]
  },
  {
   "cell_type": "code",
   "execution_count": 95,
   "metadata": {},
   "outputs": [],
   "source": [
    "df.to_csv(\"/Users/lsiddiqsunny/Documents/Notre_Dame/Research/ICSE23-results/CodeGen/SF110-Results/csv-data/Test_Correctness_CodeGen_SF110.csv\", index=False)"
   ]
  }
 ],
 "metadata": {
  "kernelspec": {
   "display_name": "Python 3",
   "language": "python",
   "name": "python3"
  },
  "language_info": {
   "codemirror_mode": {
    "name": "ipython",
    "version": 3
   },
   "file_extension": ".py",
   "mimetype": "text/x-python",
   "name": "python",
   "nbconvert_exporter": "python",
   "pygments_lexer": "ipython3",
   "version": "3.9.4"
  },
  "orig_nbformat": 4,
  "vscode": {
   "interpreter": {
    "hash": "452664ae0eb597dd3a1b83725f0d9ce2a5dbc90def01fdcd30762fd3552c6140"
   }
  }
 },
 "nbformat": 4,
 "nbformat_minor": 2
}
