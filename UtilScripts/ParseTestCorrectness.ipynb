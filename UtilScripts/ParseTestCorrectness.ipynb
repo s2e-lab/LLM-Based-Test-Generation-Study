{
 "cells": [
  {
   "cell_type": "code",
   "execution_count": 1,
   "metadata": {},
   "outputs": [],
   "source": [
    "import os\n",
    "import pandas as pd\n",
    "import numpy as np"
   ]
  },
  {
   "cell_type": "code",
   "execution_count": 2,
   "metadata": {},
   "outputs": [],
   "source": [
    "rootPath = \"/Users/lsiddiqsunny/Documents/Notre_Dame/Research/ICSE23-results/OpenAI/SF110-Results/\""
   ]
  },
  {
   "cell_type": "code",
   "execution_count": 3,
   "metadata": {},
   "outputs": [],
   "source": [
    "headers = [\"MODEL\",\"PROJECT_NAME\",\"CLASS_NAME\",\"FILE_NAME\",\"SCENARIO\",\"TOKEN\",\"TOTAL_TESTS\",\"TOTAL_FAILURES\",\"TOTAL_SKIPPED\",\"TOTAL_ABORTED\",\"TOTAL_TIME\"]"
   ]
  },
  {
   "cell_type": "code",
   "execution_count": 4,
   "metadata": {},
   "outputs": [],
   "source": [
    "information = []"
   ]
  },
  {
   "cell_type": "code",
   "execution_count": null,
   "metadata": {},
   "outputs": [],
   "source": [
    "with open(rootPath+\"out.txt\", \"r\") as f:\n",
    "    lines = f.readlines()\n",
    "    for line in lines:\n",
    "        info = []\n",
    "        info.append(\"CODEX\")\n",
    "        parts = line.strip().split(\"/\")\n",
    "        print(parts)\n",
    "\n",
    "        project_name = parts[1]\n",
    "        info.append(project_name)\n",
    "        print(project_name)\n",
    "\n",
    "        className = \".\".join(parts[2].split(\".\")[:-2]).split(\"-\")[-1]\n",
    "        info.append(className)\n",
    "        print(className)\n",
    "\n",
    "        fileName = parts[2].split(\".\")[-2]\n",
    "        info.append(fileName+\".java\")\n",
    "        print(fileName)\n",
    "\n",
    "        scenario = fileName.split(\"_\")[0]\n",
    "        info.append(scenario)\n",
    "        print(scenario)\n",
    "\n",
    "        token = fileName.split(\"_\")[-2:-1][0]\n",
    "        info.append(token)\n",
    "        print(token)\n",
    "\n",
    "        with open(rootPath+line.strip(), \"r\") as f2:\n",
    "            lines2 = f2.readlines()\n",
    "            if len(lines2)>0 and \"Tests run\" in lines2[-1]:\n",
    "                res = lines2[-1].strip().split()\n",
    "                total_tests = res[2].split(\",\")[0]\n",
    "                total_failures = res[4].split(\",\")[0]\n",
    "                total_skipped = res[6].split(\",\")[0]\n",
    "                total_aborted = res[8].split(\",\")[0]\n",
    "                total_time = res[11].split()[0]\n",
    "                info.append(total_tests)\n",
    "                info.append(total_failures)\n",
    "                info.append(total_skipped)\n",
    "                info.append(total_aborted)\n",
    "                info.append(total_time)\n",
    "                print(total_tests)\n",
    "                print(total_failures)\n",
    "                print(total_skipped)\n",
    "                print(total_aborted)\n",
    "                print(total_time)\n",
    "                \n",
    "            else:\n",
    "                info.append(\"0\")\n",
    "                info.append(\"0\")\n",
    "                info.append(\"0\")\n",
    "                info.append(\"0\")\n",
    "                info.append(\"0\")\n",
    "        information.append(info)\n"
   ]
  },
  {
   "cell_type": "code",
   "execution_count": 6,
   "metadata": {},
   "outputs": [],
   "source": [
    "np_info = np.array(information)\n",
    "df = pd.DataFrame(np_info, columns=headers)"
   ]
  },
  {
   "cell_type": "code",
   "execution_count": 29,
   "metadata": {},
   "outputs": [],
   "source": [
    "df.to_csv(\"/Users/lsiddiqsunny/Documents/Notre_Dame/Research/ICSE23-results/OpenAI/SF110-Results/csv-data/tests_summery.csv\", index=False)"
   ]
  }
 ],
 "metadata": {
  "kernelspec": {
   "display_name": "Python 3",
   "language": "python",
   "name": "python3"
  },
  "language_info": {
   "codemirror_mode": {
    "name": "ipython",
    "version": 3
   },
   "file_extension": ".py",
   "mimetype": "text/x-python",
   "name": "python",
   "nbconvert_exporter": "python",
   "pygments_lexer": "ipython3",
   "version": "3.9.4"
  },
  "orig_nbformat": 4
 },
 "nbformat": 4,
 "nbformat_minor": 2
}
