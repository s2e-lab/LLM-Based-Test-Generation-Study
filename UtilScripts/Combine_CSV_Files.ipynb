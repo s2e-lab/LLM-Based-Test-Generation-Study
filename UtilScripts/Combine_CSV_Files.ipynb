{
 "cells": [
  {
   "cell_type": "code",
   "execution_count": 1,
   "metadata": {},
   "outputs": [],
   "source": [
    "import glob"
   ]
  },
  {
   "cell_type": "code",
   "execution_count": 2,
   "metadata": {},
   "outputs": [],
   "source": [
    "path = \"/Users/lsiddiqsunny/Documents/Notre_Dame/Research/LLM-Based-Test-Generation-Study/UtilScripts/EvosuiteTestFiles\"\n"
   ]
  },
  {
   "cell_type": "code",
   "execution_count": 3,
   "metadata": {},
   "outputs": [
    {
     "data": {
      "text/plain": [
       "['/Users/lsiddiqsunny/Documents/Notre_Dame/Research/LLM-Based-Test-Generation-Study/UtilScripts/EvosuiteTestFiles/Output_Class_1681337393263.csv',\n",
       " '/Users/lsiddiqsunny/Documents/Notre_Dame/Research/LLM-Based-Test-Generation-Study/UtilScripts/EvosuiteTestFiles/Output_Class_1681337378599.csv',\n",
       " '/Users/lsiddiqsunny/Documents/Notre_Dame/Research/LLM-Based-Test-Generation-Study/UtilScripts/EvosuiteTestFiles/Output_Class_1681337387363.csv',\n",
       " '/Users/lsiddiqsunny/Documents/Notre_Dame/Research/LLM-Based-Test-Generation-Study/UtilScripts/EvosuiteTestFiles/Output_Class_1681337418747.csv',\n",
       " '/Users/lsiddiqsunny/Documents/Notre_Dame/Research/LLM-Based-Test-Generation-Study/UtilScripts/EvosuiteTestFiles/Output_Class_1681337382026.csv',\n",
       " '/Users/lsiddiqsunny/Documents/Notre_Dame/Research/LLM-Based-Test-Generation-Study/UtilScripts/EvosuiteTestFiles/Output_Class_1681337421263.csv',\n",
       " '/Users/lsiddiqsunny/Documents/Notre_Dame/Research/LLM-Based-Test-Generation-Study/UtilScripts/EvosuiteTestFiles/Output_Class_1681337388490.csv',\n",
       " '/Users/lsiddiqsunny/Documents/Notre_Dame/Research/LLM-Based-Test-Generation-Study/UtilScripts/EvosuiteTestFiles/Output_Class_1681337394286.csv',\n",
       " '/Users/lsiddiqsunny/Documents/Notre_Dame/Research/LLM-Based-Test-Generation-Study/UtilScripts/EvosuiteTestFiles/Output_Class_1681337428695.csv',\n",
       " '/Users/lsiddiqsunny/Documents/Notre_Dame/Research/LLM-Based-Test-Generation-Study/UtilScripts/EvosuiteTestFiles/Output_Class_1681337373147.csv',\n",
       " '/Users/lsiddiqsunny/Documents/Notre_Dame/Research/LLM-Based-Test-Generation-Study/UtilScripts/EvosuiteTestFiles/Output_Class_1681337384280.csv',\n",
       " '/Users/lsiddiqsunny/Documents/Notre_Dame/Research/LLM-Based-Test-Generation-Study/UtilScripts/EvosuiteTestFiles/Output_Class_1681337438437.csv',\n",
       " '/Users/lsiddiqsunny/Documents/Notre_Dame/Research/LLM-Based-Test-Generation-Study/UtilScripts/EvosuiteTestFiles/Output_Class_1681337436977.csv',\n",
       " '/Users/lsiddiqsunny/Documents/Notre_Dame/Research/LLM-Based-Test-Generation-Study/UtilScripts/EvosuiteTestFiles/Output_Class_1681337390068.csv',\n",
       " '/Users/lsiddiqsunny/Documents/Notre_Dame/Research/LLM-Based-Test-Generation-Study/UtilScripts/EvosuiteTestFiles/Output_Class_1681337414655.csv',\n",
       " '/Users/lsiddiqsunny/Documents/Notre_Dame/Research/LLM-Based-Test-Generation-Study/UtilScripts/EvosuiteTestFiles/Output_Class_1681337439664.csv',\n",
       " '/Users/lsiddiqsunny/Documents/Notre_Dame/Research/LLM-Based-Test-Generation-Study/UtilScripts/EvosuiteTestFiles/Output_Class_1681337379782.csv',\n",
       " '/Users/lsiddiqsunny/Documents/Notre_Dame/Research/LLM-Based-Test-Generation-Study/UtilScripts/EvosuiteTestFiles/Output_Class_1681337405742.csv',\n",
       " '/Users/lsiddiqsunny/Documents/Notre_Dame/Research/LLM-Based-Test-Generation-Study/UtilScripts/EvosuiteTestFiles/Output_Class_1681337397536.csv',\n",
       " '/Users/lsiddiqsunny/Documents/Notre_Dame/Research/LLM-Based-Test-Generation-Study/UtilScripts/EvosuiteTestFiles/Output_Class_1681337376696.csv',\n",
       " '/Users/lsiddiqsunny/Documents/Notre_Dame/Research/LLM-Based-Test-Generation-Study/UtilScripts/EvosuiteTestFiles/Output_Class_1681337409806.csv',\n",
       " '/Users/lsiddiqsunny/Documents/Notre_Dame/Research/LLM-Based-Test-Generation-Study/UtilScripts/EvosuiteTestFiles/Output_Class_1681337375215.csv',\n",
       " '/Users/lsiddiqsunny/Documents/Notre_Dame/Research/LLM-Based-Test-Generation-Study/UtilScripts/EvosuiteTestFiles/Output_Class_1681337367822.csv',\n",
       " '/Users/lsiddiqsunny/Documents/Notre_Dame/Research/LLM-Based-Test-Generation-Study/UtilScripts/EvosuiteTestFiles/Output_Class_1681337431817.csv',\n",
       " '/Users/lsiddiqsunny/Documents/Notre_Dame/Research/LLM-Based-Test-Generation-Study/UtilScripts/EvosuiteTestFiles/Output_Class_1681337370580.csv',\n",
       " '/Users/lsiddiqsunny/Documents/Notre_Dame/Research/LLM-Based-Test-Generation-Study/UtilScripts/EvosuiteTestFiles/Output_Class_1681337411321.csv',\n",
       " '/Users/lsiddiqsunny/Documents/Notre_Dame/Research/LLM-Based-Test-Generation-Study/UtilScripts/EvosuiteTestFiles/Output_Class_1681337423813.csv',\n",
       " '/Users/lsiddiqsunny/Documents/Notre_Dame/Research/LLM-Based-Test-Generation-Study/UtilScripts/EvosuiteTestFiles/Output_Class_1681337422106.csv',\n",
       " '/Users/lsiddiqsunny/Documents/Notre_Dame/Research/LLM-Based-Test-Generation-Study/UtilScripts/EvosuiteTestFiles/Output_Class_1681337406925.csv',\n",
       " '/Users/lsiddiqsunny/Documents/Notre_Dame/Research/LLM-Based-Test-Generation-Study/UtilScripts/EvosuiteTestFiles/Output_Class_1681337385679.csv',\n",
       " '/Users/lsiddiqsunny/Documents/Notre_Dame/Research/LLM-Based-Test-Generation-Study/UtilScripts/EvosuiteTestFiles/Output_Class_1681337433419.csv',\n",
       " '/Users/lsiddiqsunny/Documents/Notre_Dame/Research/LLM-Based-Test-Generation-Study/UtilScripts/EvosuiteTestFiles/Output_Class_1681337425383.csv',\n",
       " '/Users/lsiddiqsunny/Documents/Notre_Dame/Research/LLM-Based-Test-Generation-Study/UtilScripts/EvosuiteTestFiles/Output_Class_1681337429989.csv',\n",
       " '/Users/lsiddiqsunny/Documents/Notre_Dame/Research/LLM-Based-Test-Generation-Study/UtilScripts/EvosuiteTestFiles/Output_Class_1681337435393.csv',\n",
       " '/Users/lsiddiqsunny/Documents/Notre_Dame/Research/LLM-Based-Test-Generation-Study/UtilScripts/EvosuiteTestFiles/Output_Class_1681337427387.csv',\n",
       " '/Users/lsiddiqsunny/Documents/Notre_Dame/Research/LLM-Based-Test-Generation-Study/UtilScripts/EvosuiteTestFiles/Output_Class_1681337383468.csv',\n",
       " '/Users/lsiddiqsunny/Documents/Notre_Dame/Research/LLM-Based-Test-Generation-Study/UtilScripts/EvosuiteTestFiles/Output_Class_1681337412102.csv',\n",
       " '/Users/lsiddiqsunny/Documents/Notre_Dame/Research/LLM-Based-Test-Generation-Study/UtilScripts/EvosuiteTestFiles/Output_Class_1681337403780.csv',\n",
       " '/Users/lsiddiqsunny/Documents/Notre_Dame/Research/LLM-Based-Test-Generation-Study/UtilScripts/EvosuiteTestFiles/Output_Class_1681337381293.csv',\n",
       " '/Users/lsiddiqsunny/Documents/Notre_Dame/Research/LLM-Based-Test-Generation-Study/UtilScripts/EvosuiteTestFiles/Output_Class_1681337399621.csv',\n",
       " '/Users/lsiddiqsunny/Documents/Notre_Dame/Research/LLM-Based-Test-Generation-Study/UtilScripts/EvosuiteTestFiles/Output_Class_1681337416997.csv',\n",
       " '/Users/lsiddiqsunny/Documents/Notre_Dame/Research/LLM-Based-Test-Generation-Study/UtilScripts/EvosuiteTestFiles/Output_Class_1681337371570.csv',\n",
       " '/Users/lsiddiqsunny/Documents/Notre_Dame/Research/LLM-Based-Test-Generation-Study/UtilScripts/EvosuiteTestFiles/Output_Class_1681337396277.csv',\n",
       " '/Users/lsiddiqsunny/Documents/Notre_Dame/Research/LLM-Based-Test-Generation-Study/UtilScripts/EvosuiteTestFiles/Output_Class_1681337407866.csv',\n",
       " '/Users/lsiddiqsunny/Documents/Notre_Dame/Research/LLM-Based-Test-Generation-Study/UtilScripts/EvosuiteTestFiles/Output_Class_1681337426473.csv',\n",
       " '/Users/lsiddiqsunny/Documents/Notre_Dame/Research/LLM-Based-Test-Generation-Study/UtilScripts/EvosuiteTestFiles/Output_Class_1681337408771.csv',\n",
       " '/Users/lsiddiqsunny/Documents/Notre_Dame/Research/LLM-Based-Test-Generation-Study/UtilScripts/EvosuiteTestFiles/Output_Class_1681337430985.csv']"
      ]
     },
     "execution_count": 3,
     "metadata": {},
     "output_type": "execute_result"
    }
   ],
   "source": [
    "csv_files = glob.glob('{}/*.{}'.format(path,'csv'))\n",
    "csv_files"
   ]
  },
  {
   "cell_type": "code",
   "execution_count": 4,
   "metadata": {},
   "outputs": [],
   "source": [
    "import pandas as pd"
   ]
  },
  {
   "cell_type": "code",
   "execution_count": 5,
   "metadata": {},
   "outputs": [],
   "source": [
    "df = pd.concat((pd.read_csv(f) for f in csv_files), ignore_index=True)"
   ]
  },
  {
   "cell_type": "code",
   "execution_count": 6,
   "metadata": {},
   "outputs": [],
   "source": [
    "df.to_csv(\"all_evosuite_combined.csv\", index=False)"
   ]
  }
 ],
 "metadata": {
  "kernelspec": {
   "display_name": "Python 3",
   "language": "python",
   "name": "python3"
  },
  "language_info": {
   "codemirror_mode": {
    "name": "ipython",
    "version": 3
   },
   "file_extension": ".py",
   "mimetype": "text/x-python",
   "name": "python",
   "nbconvert_exporter": "python",
   "pygments_lexer": "ipython3",
   "version": "3.9.4"
  },
  "orig_nbformat": 4
 },
 "nbformat": 4,
 "nbformat_minor": 2
}
