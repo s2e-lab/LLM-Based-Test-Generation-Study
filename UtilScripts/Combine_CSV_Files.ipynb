{
 "cells": [
  {
   "cell_type": "code",
   "execution_count": 1,
   "metadata": {},
   "outputs": [],
   "source": [
    "import glob"
   ]
  },
  {
   "cell_type": "code",
   "execution_count": 2,
   "metadata": {},
   "outputs": [],
   "source": [
    "path = \"/Users/lsiddiqsunny/Documents/Notre_Dame/Research/ICSE23-results/GPT3.5/SF110-Results/csv-data/Compilation_Results\"\n"
   ]
  },
  {
   "cell_type": "code",
   "execution_count": 3,
   "metadata": {},
   "outputs": [
    {
     "data": {
      "text/plain": [
       "['/Users/lsiddiqsunny/Documents/Notre_Dame/Research/ICSE23-results/GPT3.5/SF110-Results/csv-data/Compilation_Results/compilation_SF110_original.csv',\n",
       " '/Users/lsiddiqsunny/Documents/Notre_Dame/Research/ICSE23-results/GPT3.5/SF110-Results/csv-data/Compilation_Results/compilation_SF110_scenario4.csv',\n",
       " '/Users/lsiddiqsunny/Documents/Notre_Dame/Research/ICSE23-results/GPT3.5/SF110-Results/csv-data/Compilation_Results/compilation_SF110_scenario2.csv',\n",
       " '/Users/lsiddiqsunny/Documents/Notre_Dame/Research/ICSE23-results/GPT3.5/SF110-Results/csv-data/Compilation_Results/compilation_SF110_scenario3.csv',\n",
       " '/Users/lsiddiqsunny/Documents/Notre_Dame/Research/ICSE23-results/GPT3.5/SF110-Results/csv-data/Compilation_Results/compilation_SF110_scenario1.csv']"
      ]
     },
     "execution_count": 3,
     "metadata": {},
     "output_type": "execute_result"
    }
   ],
   "source": [
    "csv_files = glob.glob('{}/*.{}'.format(path,'csv'))\n",
    "csv_files"
   ]
  },
  {
   "cell_type": "code",
   "execution_count": 4,
   "metadata": {},
   "outputs": [],
   "source": [
    "import pandas as pd"
   ]
  },
  {
   "cell_type": "code",
   "execution_count": 5,
   "metadata": {},
   "outputs": [],
   "source": [
    "df = pd.concat((pd.read_csv(f) for f in csv_files), ignore_index=True)"
   ]
  },
  {
   "cell_type": "code",
   "execution_count": 6,
   "metadata": {},
   "outputs": [],
   "source": [
    "df.to_csv(\"all_compilation_results.csv\", index=False)"
   ]
  }
 ],
 "metadata": {
  "kernelspec": {
   "display_name": "Python 3",
   "language": "python",
   "name": "python3"
  },
  "language_info": {
   "codemirror_mode": {
    "name": "ipython",
    "version": 3
   },
   "file_extension": ".py",
   "mimetype": "text/x-python",
   "name": "python",
   "nbconvert_exporter": "python",
   "pygments_lexer": "ipython3",
   "version": "3.9.4"
  },
  "orig_nbformat": 4
 },
 "nbformat": 4,
 "nbformat_minor": 2
}
