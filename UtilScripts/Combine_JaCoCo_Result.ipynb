{
 "cells": [
  {
   "cell_type": "code",
   "execution_count": 13,
   "metadata": {},
   "outputs": [],
   "source": [
    "import pandas as pd\n",
    "import os"
   ]
  },
  {
   "cell_type": "code",
   "execution_count": 14,
   "metadata": {},
   "outputs": [],
   "source": [
    "path = \"/Users/lsiddiqsunny/Documents/Notre_Dame/Research/ICSE23-results/OpenAI/SF110-Results/csv-data/JaCoCo_Results/\"\n",
    "files = os.listdir(path)"
   ]
  },
  {
   "cell_type": "code",
   "execution_count": 15,
   "metadata": {},
   "outputs": [],
   "source": [
    "header = [\"MODEL\",\"SCENARIO\",\"TOKEN\",\"GROUP\",\"PACKAGE\",\"CLASS\",\"INSTRUCTION_MISSED\",\"INSTRUCTION_COVERED\",\"BRANCH_MISSED\",\"BRANCH_COVERED\",\"LINE_MISSED\",\"LINE_COVERED\",\"COMPLEXITY_MISSED\",\"COMPLEXITY_COVERED\",\"METHOD_MISSED\",\"METHOD_COVERED\"]\n"
   ]
  },
  {
   "cell_type": "code",
   "execution_count": 16,
   "metadata": {},
   "outputs": [],
   "source": [
    "isFist = True\n",
    "for file in files:\n",
    "    if file.endswith(\".csv\"):\n",
    "        model = \"Codex\"\n",
    "        scenario = file.split(\"_\")[2]\n",
    "        token = file.split(\"_\")[3].split(\".\")[0]\n",
    "        group = file.split(\"_\")[1]\n",
    "        # print(model, scenario, token, group)\n",
    "        df = pd.read_csv(path+file)\n",
    "\n",
    "        df['MODEL'], df['SCENARIO'], df['TOKEN'], df[\"GROUP\"] = model, scenario, token, group\n",
    "        df = df[header]\n",
    "        df.to_csv(\"/Users/lsiddiqsunny/Documents/Notre_Dame/Research/ICSE23-results/OpenAI/SF110-Results/csv-data/JaCoCo_Codex_SF110.csv\", mode='a', header=isFist, index=False)\n",
    "        isFist = False"
   ]
  }
 ],
 "metadata": {
  "kernelspec": {
   "display_name": "Python 3",
   "language": "python",
   "name": "python3"
  },
  "language_info": {
   "codemirror_mode": {
    "name": "ipython",
    "version": 3
   },
   "file_extension": ".py",
   "mimetype": "text/x-python",
   "name": "python",
   "nbconvert_exporter": "python",
   "pygments_lexer": "ipython3",
   "version": "3.9.4"
  },
  "orig_nbformat": 4
 },
 "nbformat": 4,
 "nbformat_minor": 2
}
