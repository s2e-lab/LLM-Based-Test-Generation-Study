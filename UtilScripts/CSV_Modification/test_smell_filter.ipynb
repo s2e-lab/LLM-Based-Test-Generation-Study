{
 "cells": [
  {
   "cell_type": "code",
   "execution_count": 1,
   "metadata": {},
   "outputs": [],
   "source": [
    "import pandas as pd"
   ]
  },
  {
   "cell_type": "code",
   "execution_count": 8,
   "metadata": {},
   "outputs": [
    {
     "data": {
      "text/plain": [
       "2289"
      ]
     },
     "execution_count": 8,
     "metadata": {},
     "output_type": "execute_result"
    }
   ],
   "source": [
    "test_smell_path = \"/Users/lsiddiqsunny/Documents/Notre_Dame/Research/ICSE23-results/StarCoder/SF110-Results/csv-data/Test_Smell_StarCoder_SF110_updated.csv\"\n",
    "test_smell_df = pd.read_csv(test_smell_path)  # read the csv file\n",
    "len(test_smell_df)"
   ]
  },
  {
   "cell_type": "code",
   "execution_count": 10,
   "metadata": {},
   "outputs": [
    {
     "data": {
      "text/plain": [
       "954"
      ]
     },
     "execution_count": 10,
     "metadata": {},
     "output_type": "execute_result"
    }
   ],
   "source": [
    "test_correctness_path = \"/Users/lsiddiqsunny/Documents/Notre_Dame/Research/ICSE23-results/StarCoder/SF110-Results/csv-data/Test_Correctness_StarCoder_SF110_updated.csv\"\n",
    "test_correctness_df = pd.read_csv(test_correctness_path)  # read the csv file\n",
    "len(test_correctness_df)"
   ]
  },
  {
   "cell_type": "code",
   "execution_count": 11,
   "metadata": {},
   "outputs": [],
   "source": [
    "new_test_smell_df = pd.DataFrame(columns = test_smell_df.columns)  # create a new dataframe with the same columns as the test smell dataframe"
   ]
  },
  {
   "cell_type": "code",
   "execution_count": 12,
   "metadata": {},
   "outputs": [],
   "source": [
    "def search_in_test_smell_df(test_smell_df, test_name):\n",
    "    for index, row in test_smell_df.iterrows():\n",
    "        if test_name in row['TestClass']:\n",
    "            return row\n",
    "    return None"
   ]
  },
  {
   "cell_type": "code",
   "execution_count": 13,
   "metadata": {},
   "outputs": [
    {
     "name": "stdout",
     "output_type": "stream",
     "text": [
      "100\n",
      "200\n",
      "300\n",
      "400\n",
      "500\n",
      "600\n",
      "700\n",
      "800\n",
      "900\n"
     ]
    }
   ],
   "source": [
    "for row in test_correctness_df.itertuples(index=True, name='Pandas'):\n",
    "    data = search_in_test_smell_df(test_smell_df, row.FILE_NAME)\n",
    "\n",
    "    if data is not None:\n",
    "        new_test_smell_df =new_test_smell_df.append(data, ignore_index=True)\n",
    "    \n",
    "    # if data is None:\n",
    "    #     print(row)\n",
    "    \n",
    "    if len(new_test_smell_df) % 100 == 0:\n",
    "        print(len(new_test_smell_df))\n"
   ]
  },
  {
   "cell_type": "code",
   "execution_count": 7,
   "metadata": {},
   "outputs": [],
   "source": [
    "new_test_smell_df.to_csv(\"/Users/lsiddiqsunny/Documents/Notre_Dame/Research/ICSE23-results/StarCoder/SF110-Results/csv-data/Test_Smell_StarCoder_SF110_updated_filtered.csv\", index=False)  # write the new dataframe to a csv file"
   ]
  }
 ],
 "metadata": {
  "kernelspec": {
   "display_name": "Python 3",
   "language": "python",
   "name": "python3"
  },
  "language_info": {
   "codemirror_mode": {
    "name": "ipython",
    "version": 3
   },
   "file_extension": ".py",
   "mimetype": "text/x-python",
   "name": "python",
   "nbconvert_exporter": "python",
   "pygments_lexer": "ipython3",
   "version": "3.9.4"
  },
  "orig_nbformat": 4
 },
 "nbformat": 4,
 "nbformat_minor": 2
}
