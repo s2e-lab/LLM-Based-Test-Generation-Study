{
 "cells": [
  {
   "cell_type": "code",
   "execution_count": 8,
   "metadata": {},
   "outputs": [],
   "source": [
    "import json\n",
    "import numpy as np\n",
    "import os"
   ]
  },
  {
   "cell_type": "code",
   "execution_count": 3,
   "metadata": {},
   "outputs": [
    {
     "name": "stdout",
     "output_type": "stream",
     "text": [
      "160\n"
     ]
    }
   ],
   "source": [
    "path = \"../RQ1_Test_Generation/OpenAI_Data/HumanEvalJava_output/original_output_2000.json\"\n",
    "data = []\n",
    "with open(path) as f:\n",
    "    data = json.load(f)\n",
    "print(len(data))"
   ]
  },
  {
   "cell_type": "code",
   "execution_count": 4,
   "metadata": {},
   "outputs": [
    {
     "name": "stdout",
     "output_type": "stream",
     "text": [
      "[623, 585, 477, 558, 525, 412, 630, 579, 879, 545, 770, 607, 698, 340, 682, 744, 705, 675, 758, 763, 843, 687, 730, 911, 405, 971, 407, 494, 634, 893, 596, 892, 779, 591, 1537, 321, 962, 370, 780, 609, 639, 461, 916, 580, 396, 399, 366, 608, 1157, 878, 612, 651, 769, 612, 493, 815, 836, 304, 474, 776, 638, 1028, 512, 498, 643, 587, 742, 634, 397, 569, 563, 469, 621, 370, 979, 306, 654, 662, 386, 217, 319, 509, 418, 342, 324, 392, 510, 464, 381, 767, 302, 318, 432, 585, 537, 422, 531, 425, 418, 620, 473, 220, 488, 349, 347, 378, 418, 503, 364, 1744, 508, 266, 494, 520, 498, 325, 521, 295, 491, 403, 473, 507, 433, 436, 614, 844, 1291, 503, 760, 517, 624, 539, 763, 450, 508, 411, 653, 456, 452, 482, 999, 500, 362, 393, 344, 553, 856, 751, 542, 446, 559, 496, 580, 543, 946, 738, 726, 394, 359, 449]\n"
     ]
    }
   ],
   "source": [
    "usage = []\n",
    "for entry in data:\n",
    "    usage.append(entry[\"usage\"][\"prompt_tokens\"])\n",
    "\n",
    "print(usage)"
   ]
  },
  {
   "cell_type": "code",
   "execution_count": 7,
   "metadata": {},
   "outputs": [
    {
     "name": "stdout",
     "output_type": "stream",
     "text": [
      "Mean:  581.60625\n",
      "Std:  225.90698021738393\n",
      "Min:  217\n",
      "Max:  1744\n",
      "Q1:  421.0\n",
      "Q2:  534.0\n",
      "Q3:  683.25\n"
     ]
    }
   ],
   "source": [
    "numpy_data = np.array(usage)\n",
    "print(\"Mean: \",numpy_data.mean())\n",
    "print(\"Std: \",numpy_data.std())\n",
    "print(\"Min: \", numpy_data.min())\n",
    "print(\"Max: \",numpy_data.max())\n",
    "print(\"Q1: \", np.percentile(numpy_data, 25))\n",
    "print(\"Q2: \",np.percentile(numpy_data, 50))\n",
    "print(\"Q3: \",np.percentile(numpy_data, 75))"
   ]
  },
  {
   "cell_type": "code",
   "execution_count": 21,
   "metadata": {},
   "outputs": [
    {
     "name": "stdout",
     "output_type": "stream",
     "text": [
      "63_objectexplorer_output_2000.json\n",
      "49_diebierse_output_2000.json\n",
      "75_openhre_output_2000.json\n",
      "52_lagoon_output_2000.json\n",
      "32_httpanalyzer_output_2000.json\n",
      "17_inspirento_output_2000.json\n",
      "24_saxpath_output_2000.json\n",
      "56_jhandballmoves_output_2000.json\n",
      "10_water-simulator_output_2000.json\n",
      "12_dsachat_output_2000.json\n",
      "67_gae-app-manager_output_2000.json\n",
      "Mean:  916.0\n",
      "Std:  348.0\n",
      "Min:  568\n",
      "Max:  1264\n",
      "Q1:  742.0\n",
      "Q2:  916.0\n",
      "Q3:  1090.0\n",
      "81_javathena_output_2000.json\n",
      "73_fim1_output_2000.json\n",
      "22_byuic_output_2000.json\n",
      "25_jni-inchi_output_2000.json\n",
      "42_asphodel_output_2000.json\n",
      "Mean:  804.0\n",
      "Std:  0.0\n",
      "Min:  804\n",
      "Max:  804\n",
      "Q1:  804.0\n",
      "Q2:  804.0\n",
      "Q3:  804.0\n",
      "71_ext4j_output_2000.json\n",
      "103_sweethome3d_output_2000.json\n",
      "33_javaviewcontrol_output_2000.json\n",
      "4_rif_output_2000.json\n",
      "93_quickserver_output_2000.json\n",
      "79_twfbplayer_output_2000.json\n",
      "57_hft-bomberman_output_2000.json\n",
      "23_jwbf_output_2000.json\n",
      "40_glengineer_output_2000.json\n",
      "39_diffi_output_2000.json\n",
      "Mean:  636.0\n",
      "Std:  2.0\n",
      "Min:  634\n",
      "Max:  638\n",
      "Q1:  635.0\n",
      "Q2:  636.0\n",
      "Q3:  637.0\n",
      "91_classviewer_output_2000.json\n",
      "74_fixsuite_output_2000.json\n",
      "68_biblestudy_output_2000.json\n",
      "31_xisemele_output_2000.json\n",
      "Mean:  328.0\n",
      "Std:  0.0\n",
      "Min:  328\n",
      "Max:  328\n",
      "Q1:  328.0\n",
      "Q2:  328.0\n",
      "Q3:  328.0\n",
      "7_sfmis_output_2000.json\n",
      "11_imsmart_output_2000.json\n",
      "Mean:  717.0\n",
      "Std:  0.0\n",
      "Min:  717\n",
      "Max:  717\n",
      "Q1:  717.0\n",
      "Q2:  717.0\n",
      "Q3:  717.0\n",
      "96_heal_output_2000.json\n",
      "8_gfarcegestionfa_output_2000.json\n",
      "19_jmca_output_2000.json\n",
      "82_ipcalculator_output_2000.json\n",
      "41_follow_output_2000.json\n",
      "34_sbmlreader2_output_2000.json\n",
      "84_ifx-framework_output_2000.json\n",
      "47_dvd-homevideo_output_2000.json\n",
      "59_mygrid_output_2000.json\n",
      "86_at-robots2-j_output_2000.json\n",
      "64_jtailgui_output_2000.json\n",
      "2_a4j_output_2000.json\n",
      "29_apbsmem_output_2000.json\n",
      "60_sugar_output_2000.json\n",
      "5_templateit_output_2000.json\n",
      "14_omjstate_output_2000.json\n",
      "100_jgaap_output_2000.json\n",
      "Mean:  995.3333333333334\n",
      "Std:  359.1288843236583\n",
      "Min:  584\n",
      "Max:  1459\n",
      "Q1:  763.5\n",
      "Q2:  943.0\n",
      "Q3:  1201.0\n",
      "94_jclo_output_2000.json\n",
      "69_lhamacaw_output_2000.json\n",
      "43_lilith_output_2000.json\n",
      "6_jnfe_output_2000.json\n"
     ]
    }
   ],
   "source": [
    "scenario_path = \"../RQ1_Test_Generation/OpenAI_Data/SF110_output\"\n",
    "for project in os.listdir(scenario_path):\n",
    "        path = scenario_path+\"/\"+project\n",
    "        if os.path.isdir(path):\n",
    "            continue\n",
    "\n",
    "        if project.endswith(\".csv\") or \"4000\" in project:\n",
    "            continue\n",
    "        print(project)\n",
    "        data = []\n",
    "        \n",
    "        with open(scenario_path+\"/\"+project) as f:\n",
    "            data = json.load(f)\n",
    "        usage = []\n",
    "        for entry in data:\n",
    "            if \"usage\" in entry:\n",
    "                usage.append(entry[\"usage\"][\"prompt_tokens\"])\n",
    "        if len(usage) == 0:\n",
    "            continue\n",
    "        numpy_data = np.array(usage)\n",
    "        if numpy_data.mean()>1000:\n",
    "             continue\n",
    "        print(\"Mean: \",numpy_data.mean())\n",
    "        print(\"Std: \",numpy_data.std())\n",
    "        print(\"Min: \", numpy_data.min())\n",
    "        print(\"Max: \",numpy_data.max())\n",
    "        print(\"Q1: \", np.percentile(numpy_data, 25))\n",
    "        print(\"Q2: \",np.percentile(numpy_data, 50))\n",
    "        print(\"Q3: \",np.percentile(numpy_data, 75))\n",
    "\n"
   ]
  }
 ],
 "metadata": {
  "kernelspec": {
   "display_name": "Python 3",
   "language": "python",
   "name": "python3"
  },
  "language_info": {
   "codemirror_mode": {
    "name": "ipython",
    "version": 3
   },
   "file_extension": ".py",
   "mimetype": "text/x-python",
   "name": "python",
   "nbconvert_exporter": "python",
   "pygments_lexer": "ipython3",
   "version": "3.9.4"
  },
  "orig_nbformat": 4
 },
 "nbformat": 4,
 "nbformat_minor": 2
}
