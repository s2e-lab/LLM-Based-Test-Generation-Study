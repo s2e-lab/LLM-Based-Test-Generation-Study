{
 "cells": [
  {
   "cell_type": "code",
   "execution_count": 14,
   "metadata": {},
   "outputs": [],
   "source": [
    "import os"
   ]
  },
  {
   "cell_type": "code",
   "execution_count": 15,
   "metadata": {},
   "outputs": [],
   "source": [
    "source_folder = \"/Users/lsiddiqsunny/Documents/Notre_Dame/Research/ICSE23-results/CodeGen/SF110-Results\""
   ]
  },
  {
   "cell_type": "code",
   "execution_count": 16,
   "metadata": {},
   "outputs": [],
   "source": [
    "subfolders = [f.path for f in os.scandir(source_folder) if f.is_dir()]"
   ]
  },
  {
   "cell_type": "code",
   "execution_count": 17,
   "metadata": {},
   "outputs": [
    {
     "name": "stdout",
     "output_type": "stream",
     "text": [
      "lhamacaw has build.xml folder\n",
      "omjstate has build.xml folder\n",
      "sugar has build.xml folder\n",
      "apbsmem has build.xml folder\n",
      "ifx-framework has build.xml folder\n",
      "twfbplayer has build.xml folder\n",
      "jnfe has build.xml folder\n",
      "mygrid has build.xml folder\n",
      "jgaap has build.xml folder\n",
      "a4j has build.xml folder\n",
      "sbmlreader2 has build.xml folder\n",
      "jni-inchi has build.xml folder\n",
      "gae-app-manager has build.xml folder\n",
      "fixsuite has build.xml folder\n",
      "fim1 has build.xml folder\n",
      "ext4j has build.xml folder\n",
      "gfarcegestionfa has build.xml folder\n",
      "lilith has build.xml folder\n",
      "httpanalyzer has build.xml folder\n",
      "at-robots2-j has build.xml folder\n",
      "objectexplorer has build.xml folder\n",
      "follow has build.xml folder\n",
      "hft-bomberman has build.xml folder\n",
      "quickserver has build.xml folder\n",
      "sweethome3d has build.xml folder\n",
      "jhandballmoves has build.xml folder\n",
      "templateit has build.xml folder\n",
      "classviewer has build.xml folder\n",
      "diebierse has build.xml folder\n",
      "imsmart has build.xml folder\n",
      "byuic has build.xml folder\n",
      "dvd-homevideo has build.xml folder\n",
      "heal has build.xml folder\n",
      "javathena has build.xml folder\n",
      "jmca has build.xml folder\n",
      "openhre has build.xml folder\n",
      "ipcalculator has build.xml folder\n",
      "xisemele has build.xml folder\n",
      "inspirento has build.xml folder\n",
      "rif has build.xml folder\n",
      "jclo has build.xml folder\n",
      "javaviewcontrol has build.xml folder\n",
      "sfmis has build.xml folder\n",
      "glengineer has build.xml folder\n",
      "diffi has build.xml folder\n",
      "asphodel has build.xml folder\n",
      "biblestudy has build.xml folder\n",
      "lagoon has build.xml folder\n",
      "water-simulator has build.xml folder\n",
      "jwbf has build.xml folder\n",
      "jtailgui has build.xml folder\n",
      "saxpath has build.xml folder\n",
      "dsachat has build.xml folder\n"
     ]
    }
   ],
   "source": [
    "for subfolder in subfolders:\n",
    "    if \"lib\" in subfolder or \"csv-data\" in subfolder:\n",
    "        continue\n",
    "    \n",
    "    no_project_name = subfolder.split(\"/\")[-1]\n",
    "    project_name = subfolder.split(\"/\")[-1].split(\"_\")[1]\n",
    "    if os.path.exists(os.path.join(subfolder, \"build.xml\")):\n",
    "        print(project_name, \"has build.xml folder\")\n",
    "        # os.rename(os.path.join(subfolder, \"build.xml\"), os.path.join(subfolder, \"build.xml.bak\"))\n",
    "        with open(\"sample_build.xml\") as f:\n",
    "            data = f.read()\n",
    "        data = data.replace(\"NO_PROJECT_NAME\", no_project_name)\n",
    "        data = data.replace(\"PROJECT_NAME\", project_name)\n",
    "        data = data.replace(\"SCENARIO\", \"scenario3\")\n",
    "        data = data.replace(\"TOKEN\", \"2000\")\n",
    "\n",
    "\n",
    "        with open(os.path.join(subfolder, \"build.xml\"), \"w\") as f:\n",
    "            f.write(data)\n",
    "        \n"
   ]
  }
 ],
 "metadata": {
  "kernelspec": {
   "display_name": "Python 3",
   "language": "python",
   "name": "python3"
  },
  "language_info": {
   "codemirror_mode": {
    "name": "ipython",
    "version": 3
   },
   "file_extension": ".py",
   "mimetype": "text/x-python",
   "name": "python",
   "nbconvert_exporter": "python",
   "pygments_lexer": "ipython3",
   "version": "3.9.4"
  },
  "orig_nbformat": 4
 },
 "nbformat": 4,
 "nbformat_minor": 2
}
